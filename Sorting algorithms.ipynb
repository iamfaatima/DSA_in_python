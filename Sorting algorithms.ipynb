{
 "cells": [
  {
   "cell_type": "code",
   "execution_count": 8,
   "metadata": {},
   "outputs": [
    {
     "name": "stdout",
     "output_type": "stream",
     "text": [
      "i 0\n",
      "A [2, 12, 10, 15, 20]\n",
      "i 1\n",
      "A [2, 10, 12, 15, 20]\n",
      "i 2\n",
      "A [2, 10, 12, 15, 20]\n",
      "i 3\n",
      "A [2, 10, 12, 15, 20]\n",
      "i 4\n",
      "A [2, 10, 12, 15, 20]\n",
      "[2, 10, 12, 15, 20]\n"
     ]
    }
   ],
   "source": [
    "#selection sort\n",
    "#keep changing minimum index and swap it with first element\n",
    "#first character is sorted, rest is unsorted\n",
    "A = [20,12,10,15,2]\n",
    "for i in range(len(A)):\n",
    "    min_index = i\n",
    "    for j in range(i+1, len(A)):\n",
    "        if A[min_index]>A[j]:\n",
    "            min_index = j\n",
    "    A[i], A[min_index] = A[min_index], A[i]\n",
    "print(A)"
   ]
  },
  {
   "cell_type": "code",
   "execution_count": 12,
   "metadata": {},
   "outputs": [
    {
     "name": "stdout",
     "output_type": "stream",
     "text": [
      "[2, 10, 12, 15, 20]\n"
     ]
    }
   ],
   "source": [
    "#bubble sort\n",
    "A = [20,12,10,15,2]\n",
    "\n",
    "for i in range(len(A)):\n",
    "    for j in range(0, len(A)-i-1):\n",
    "        #if len is 5 and i is 1 then we compare only first two elements right?\n",
    "        #5-1-1= 3\n",
    "        #so we are not considering the last three elements in first iteration\n",
    "        if A[j] > A[j+1]:\n",
    "            A[j], A[j+1]= A[j+1], A[j]\n",
    "print(A)"
   ]
  },
  {
   "cell_type": "code",
   "execution_count": 16,
   "metadata": {},
   "outputs": [
    {
     "name": "stdout",
     "output_type": "stream",
     "text": [
      "[2, 10, 12, 15, 20]\n"
     ]
    }
   ],
   "source": [
    "# #insertion sort\n",
    "A = [20,12,10,15,2]\n",
    "\n",
    "#just take two pointers\n",
    "# key will point to second element\n",
    "#j is the index of element before key\n",
    "#compare the two elements\n",
    "#swap it but manually\n",
    "# instead of saying key = a[j]\n",
    "# say a[j+1] = key so you dont lose what is in the key \n",
    "\n",
    "\n",
    "for i in range(1, len(A)):\n",
    "    key = A[i]\n",
    "    j= i - 1\n",
    "    while j >=0 and key < A[j]:\n",
    "        A[j+1] = A[j]\n",
    "        j=j-1 #note\n",
    "    A[j+1] = key\n",
    "    \n",
    "print(A)\n",
    "        "
   ]
  },
  {
   "cell_type": "code",
   "execution_count": null,
   "metadata": {},
   "outputs": [],
   "source": [
    "#merge sort\n",
    "A = [20,12,10,15,2]"
   ]
  }
 ],
 "metadata": {
  "kernelspec": {
   "display_name": "Python 3",
   "language": "python",
   "name": "python3"
  },
  "language_info": {
   "codemirror_mode": {
    "name": "ipython",
    "version": 3
   },
   "file_extension": ".py",
   "mimetype": "text/x-python",
   "name": "python",
   "nbconvert_exporter": "python",
   "pygments_lexer": "ipython3",
   "version": "3.8.5"
  }
 },
 "nbformat": 4,
 "nbformat_minor": 4
}

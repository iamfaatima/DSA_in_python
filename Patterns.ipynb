{
 "cells": [
  {
   "cell_type": "code",
   "execution_count": 1,
   "metadata": {},
   "outputs": [
    {
     "name": "stdout",
     "output_type": "stream",
     "text": [
      "*****\n",
      "*****\n",
      "*****\n",
      "*****\n",
      "*****\n"
     ]
    }
   ],
   "source": [
    "for x in range(5):\n",
    "    print(\"*\"*5)"
   ]
  },
  {
   "cell_type": "code",
   "execution_count": 2,
   "metadata": {},
   "outputs": [
    {
     "name": "stdout",
     "output_type": "stream",
     "text": [
      "*\n",
      "**\n",
      "***\n",
      "****\n",
      "*****\n"
     ]
    }
   ],
   "source": [
    "for x in range(5):\n",
    "    print(\"*\"*(x+1))"
   ]
  },
  {
   "cell_type": "code",
   "execution_count": 10,
   "metadata": {},
   "outputs": [
    {
     "name": "stdout",
     "output_type": "stream",
     "text": [
      "1\n",
      "22\n",
      "333\n",
      "4444\n",
      "55555\n"
     ]
    }
   ],
   "source": [
    "var = 1\n",
    "for x in range(6):\n",
    "    for y in range(x):\n",
    "        print(str(x)*var)\n",
    "        var = var+1\n",
    "        break"
   ]
  },
  {
   "cell_type": "code",
   "execution_count": 17,
   "metadata": {},
   "outputs": [
    {
     "name": "stdout",
     "output_type": "stream",
     "text": [
      "*****\n",
      "****\n",
      "***\n",
      "**\n",
      "*\n"
     ]
    }
   ],
   "source": [
    "var = 6\n",
    "for x in range(5):\n",
    "    print(\"*\"*(var-1))\n",
    "    var = var-1"
   ]
  },
  {
   "cell_type": "code",
   "execution_count": 20,
   "metadata": {},
   "outputs": [
    {
     "name": "stdout",
     "output_type": "stream",
     "text": [
      "1 \n",
      "1 2 \n",
      "1 2 3 \n",
      "1 2 3 4 \n",
      "1 2 3 4 5 \n"
     ]
    }
   ],
   "source": [
    "for x in range(1,6): #rows\n",
    "    for y in range(1,x+1): #cols\n",
    "        print(y, end=\" \")\n",
    "    print()"
   ]
  },
  {
   "cell_type": "code",
   "execution_count": 28,
   "metadata": {},
   "outputs": [
    {
     "name": "stdout",
     "output_type": "stream",
     "text": [
      "1 2 3 4 5 1 2 3 4 1 2 3 1 2 1 "
     ]
    }
   ],
   "source": [
    "var = 6 \n",
    "for x in range(1,6):\n",
    "    for y in range(1,var):\n",
    "        print(y, end=\" \")\n",
    "    var = var - 1"
   ]
  },
  {
   "cell_type": "code",
   "execution_count": 6,
   "metadata": {},
   "outputs": [
    {
     "name": "stdout",
     "output_type": "stream",
     "text": [
      "    *    \n",
      "   ***   \n",
      "  *****  \n",
      " ******* \n",
      "*********\n"
     ]
    }
   ],
   "source": [
    "rows = 5\n",
    "cols = rows+rows\n",
    "spaces = rows - 1\n",
    "stars = 1\n",
    "for x in range(1,rows+1):\n",
    "    for y in range(1,cols+1):\n",
    "        print(\" \"*spaces + \"*\"*stars + \" \"*spaces)\n",
    "        spaces = spaces - 1\n",
    "        stars = stars + 2\n",
    "        break"
   ]
  },
  {
   "cell_type": "code",
   "execution_count": 63,
   "metadata": {},
   "outputs": [
    {
     "name": "stdout",
     "output_type": "stream",
     "text": [
      " ********* \n",
      "  *******  \n",
      "   *****   \n",
      "    ***    \n",
      "     *     \n"
     ]
    }
   ],
   "source": [
    "rows = 5\n",
    "cols = 10\n",
    "spaces = 1\n",
    "stars = cols-1\n",
    "for x in range(1,rows+1):\n",
    "    for y in range(1,cols+1):\n",
    "        print(\" \"*spaces + \"*\"*stars + \" \"*spaces)\n",
    "        spaces = spaces + 1\n",
    "        stars = stars - 2\n",
    "        break"
   ]
  },
  {
   "cell_type": "code",
   "execution_count": 5,
   "metadata": {},
   "outputs": [
    {
     "name": "stdout",
     "output_type": "stream",
     "text": [
      "    *    \n",
      "   ***   \n",
      "  *****  \n",
      " ******* \n",
      "*********\n",
      "*********\n",
      " ******* \n",
      "  *****  \n",
      "   ***   \n",
      "    *    \n"
     ]
    }
   ],
   "source": [
    "rows = 5\n",
    "cols = rows+rows\n",
    "spaces = rows - 1\n",
    "stars = 1\n",
    "array = []\n",
    "for x in range(1,rows+1):\n",
    "    for y in range(1,cols+1):\n",
    "        array.append(\" \"*spaces + \"*\"*stars + \" \"*spaces)\n",
    "        print(\" \"*spaces + \"*\"*stars + \" \"*spaces)\n",
    "        spaces = spaces - 1\n",
    "        stars = stars + 2\n",
    "        break\n",
    "array.reverse()\n",
    "print(*array, sep='\\n')"
   ]
  },
  {
   "cell_type": "code",
   "execution_count": 24,
   "metadata": {},
   "outputs": [
    {
     "name": "stdout",
     "output_type": "stream",
     "text": [
      "*           \n",
      "**          \n",
      "***         \n",
      "****        \n",
      "*****       \n",
      "**** \n",
      "***  \n",
      "**   \n",
      "*    \n"
     ]
    }
   ],
   "source": [
    "import math\n",
    "cols = 6 #make two vars for up and down cols\n",
    "rows = cols+cols\n",
    "spaces = rows - 1\n",
    "stars = 1\n",
    "array = []\n",
    "for x in range(1,math.floor(rows/2)):\n",
    "    for y in range(1,cols+1):\n",
    "        print(\"*\"*stars + \" \"*spaces)\n",
    "        spaces = spaces - 1\n",
    "        stars = stars + 1\n",
    "        break\n",
    "        \n",
    "cols = 5\n",
    "rows = cols+cols\n",
    "spaces = 1\n",
    "stars = cols-1\n",
    "\n",
    "for x in range(1,math.floor(rows/2)):\n",
    "    for y in range(1,math.floor(cols/2)):\n",
    "        print(\"*\"*stars + \" \"*spaces)\n",
    "        spaces = spaces + 1\n",
    "        stars = stars - 1\n",
    "        break"
   ]
  },
  {
   "cell_type": "code",
   "execution_count": 22,
   "metadata": {},
   "outputs": [
    {
     "name": "stdout",
     "output_type": "stream",
     "text": [
      "1\n",
      "01\n",
      "101\n",
      "0101\n",
      "10101\n"
     ]
    }
   ],
   "source": [
    "var1 = 1\n",
    "var0 = 0\n",
    "mystring = \"\"\n",
    "for x in range(1,6):\n",
    "    if (x%2==1 and y%2==0) or (x%2==0 and y%2==1):\n",
    "        mystring = mystring + (str(var0)+str(var1))*(x)\n",
    "        n=len(mystring)\n",
    "        if n%2 == 0:\n",
    "            string1 = mystring[0:n//2]\n",
    "        else:\n",
    "            string1 = mystring[0:(n//2+1)]\n",
    "        print(string1)\n",
    "        n=0\n",
    "        mystring = \"\"\n",
    "    elif (x%2==y%2==0) or (x%2==y%2==1):\n",
    "        mystring = mystring + (str(var1)+str(var0))*(x)\n",
    "        n=len(mystring)\n",
    "        if n%2 == 0:\n",
    "            string1 = mystring[0:n//2]\n",
    "        else:\n",
    "            string1 = mystring[0:(n//2+1)]\n",
    "        print(string1)\n",
    "        n=0\n",
    "        mystring = \"\"\n",
    "        \n",
    "# logic\n",
    "# for zeros:\n",
    "# x1 y0\n",
    "# x2 y1\n",
    "# x3 y0\n",
    "# x3 y2\n",
    "# x4 y1\n",
    "# x4 y3\n",
    "\n",
    "# for ones:\n",
    "# x0 y0\n",
    "# x1 y1\n",
    "# x2 y0\n",
    "# x2 y2\n",
    "# x3 y1\n",
    "# x3 y3\n",
    "# x4 y0\n",
    "# x4 y2\n",
    "# x4 y4\n"
   ]
  },
  {
   "cell_type": "code",
   "execution_count": 9,
   "metadata": {},
   "outputs": [
    {
     "name": "stdout",
     "output_type": "stream",
     "text": [
      "A \n",
      "A B \n",
      "A B C \n",
      "A B C D \n",
      "A B C D E \n"
     ]
    }
   ],
   "source": [
    "var = 64\n",
    "for x in range(1,6): #rows\n",
    "    for y in range(1,x+1): #cols\n",
    "#         if y == 1:\n",
    "#             var = var + 1\n",
    "#         elif y == 2:\n",
    "#             var = var + 2\n",
    "#         elif y == 3:\n",
    "#             var = var + 3\n",
    "#         elif y == 4:\n",
    "#             var = var + 4\n",
    "#         elif y == 5:\n",
    "#             var = var + 5\n",
    "        var = var + y\n",
    "        print(chr(var), end=\" \")\n",
    "        var = 64\n",
    "    print()"
   ]
  },
  {
   "cell_type": "code",
   "execution_count": 10,
   "metadata": {},
   "outputs": [
    {
     "name": "stdout",
     "output_type": "stream",
     "text": [
      "1 \n",
      "2 3 \n",
      "4 5 6 \n",
      "7 8 9 10 \n",
      "11 12 13 14 15 \n"
     ]
    }
   ],
   "source": [
    "var = 1\n",
    "for x in range(1,6): #rows\n",
    "    for y in range(1,x+1): #cols\n",
    "        print(var, end=\" \")\n",
    "        var = var + 1\n",
    "    print()"
   ]
  },
  {
   "cell_type": "code",
   "execution_count": 17,
   "metadata": {},
   "outputs": [
    {
     "name": "stdout",
     "output_type": "stream",
     "text": [
      "A B C D E \n",
      "A B C D \n",
      "A B C \n",
      "A B \n",
      "A \n"
     ]
    }
   ],
   "source": [
    "var = 64\n",
    "for x in range(5,0,-1): #rows\n",
    "    for y in range(1,x+1): #cols\n",
    "        var = var + y\n",
    "        print(chr(var), end=\" \")\n",
    "        var = 64\n",
    "    print()"
   ]
  },
  {
   "cell_type": "code",
   "execution_count": 27,
   "metadata": {},
   "outputs": [
    {
     "name": "stdout",
     "output_type": "stream",
     "text": [
      "A \n",
      "B B \n",
      "C C C \n",
      "D D D D \n",
      "E E E E E \n"
     ]
    }
   ],
   "source": [
    "var = 64\n",
    "for x in range(1,6): #rows\n",
    "    var = var + 1\n",
    "    for y in range(1,x+1): #cols\n",
    "        print(chr(var), end=\" \")\n",
    "    print()"
   ]
  },
  {
   "cell_type": "code",
   "execution_count": 2,
   "metadata": {},
   "outputs": [
    {
     "name": "stdout",
     "output_type": "stream",
     "text": [
      "1      1\n",
      "12    21\n",
      "123  321\n",
      "12344321\n"
     ]
    }
   ],
   "source": [
    "rows = 4\n",
    "cols = rows+rows\n",
    "spaces = \" \"\n",
    "digit = \"1\"\n",
    "for x in range(1,rows+1):\n",
    "    cols = cols - 2\n",
    "    print(str(digit) + spaces*(cols) + digit[::-1])\n",
    "    digit = digit + str(int(digit[-1:])+1)"
   ]
  },
  {
   "cell_type": "code",
   "execution_count": 123,
   "metadata": {},
   "outputs": [
    {
     "name": "stdout",
     "output_type": "stream",
     "text": [
      "                   A                   \n",
      "                  ABA                  \n",
      "                 ABCBA                 \n",
      "                ABCDCBA                \n",
      "               ABCDEDCBA               \n",
      "              ABCDEFEDCBA              \n",
      "             ABCDEFGFEDCBA             \n",
      "            ABCDEFGHGFEDCBA            \n",
      "           ABCDEFGHIHGFEDCBA           \n",
      "          ABCDEFGHIJIHGFEDCBA          \n",
      "         ABCDEFGHIJKJIHGFEDCBA         \n",
      "        ABCDEFGHIJKLKJIHGFEDCBA        \n",
      "       ABCDEFGHIJKLMLKJIHGFEDCBA       \n",
      "      ABCDEFGHIJKLMNMLKJIHGFEDCBA      \n",
      "     ABCDEFGHIJKLMNONMLKJIHGFEDCBA     \n",
      "    ABCDEFGHIJKLMNOPONMLKJIHGFEDCBA    \n",
      "   ABCDEFGHIJKLMNOPQPONMLKJIHGFEDCBA   \n",
      "  ABCDEFGHIJKLMNOPQRQPONMLKJIHGFEDCBA  \n",
      " ABCDEFGHIJKLMNOPQRSRQPONMLKJIHGFEDCBA \n",
      "ABCDEFGHIJKLMNOPQRSTSRQPONMLKJIHGFEDCBA\n"
     ]
    }
   ],
   "source": [
    "rows = 20\n",
    "cols = rows+rows\n",
    "spaces = rows - 1\n",
    "var = 65\n",
    "string_char = \"B\"\n",
    "mid_char = \"\"\n",
    "mystring = chr(var)\n",
    "printing_string = \" \"*spaces + mystring +\" \"*spaces\n",
    "spaces = spaces - 1\n",
    "print(printing_string)\n",
    "for x in range(1,rows):\n",
    "        printing_string = \" \"*spaces + mystring + string_char[-1:]+ mystring[::-1] +\" \"*spaces\n",
    "        print(printing_string)\n",
    "        string_char = string_char + printing_string\n",
    "        spaces = spaces - 1\n",
    "        mystring = mystring + chr(ord(mystring[-1:])+1)\n",
    "        mid_char = mystring[-1:]\n",
    "        mid_char = ord(mid_char) + 1 #ascii value finding function\n",
    "        mid_char = str(chr(mid_char))\n",
    "        string_char = string_char + mid_char"
   ]
  },
  {
   "cell_type": "code",
   "execution_count": 4,
   "metadata": {},
   "outputs": [
    {
     "name": "stdout",
     "output_type": "stream",
     "text": [
      "ABCDE\n",
      "BCDE\n",
      "CDE\n",
      "DE\n",
      "E\n"
     ]
    }
   ],
   "source": [
    "num_chars = 5\n",
    "var = 64\n",
    "index = 0\n",
    "mystring = \"\"\n",
    "for x in range(num_chars,0,-1): #rows\n",
    "    for y in range(1,x+1): #cols\n",
    "        y = y+index\n",
    "        var = var + y\n",
    "        print(chr(var), end=\"\")\n",
    "        var = 64 \n",
    "    index = index + 1\n",
    "    print()"
   ]
  },
  {
   "cell_type": "code",
   "execution_count": 17,
   "metadata": {},
   "outputs": [
    {
     "name": "stdout",
     "output_type": "stream",
     "text": [
      "ABCDE\n",
      "BCDE\n",
      "CDE\n",
      "DE\n",
      "E\n"
     ]
    }
   ],
   "source": [
    "#reverse it\n",
    "num_chars = 5\n",
    "var = 64\n",
    "index = 0\n",
    "mystring = \"\"\n",
    "for x in range(num_chars,0,-1): #rows\n",
    "    for y in range(1,x+1): #cols\n",
    "        y = y+index\n",
    "        var = var + y\n",
    "        print(chr(var), end=\"\")\n",
    "        var = 64 \n",
    "    index = index + 1\n",
    "    print()"
   ]
  },
  {
   "cell_type": "code",
   "execution_count": null,
   "metadata": {},
   "outputs": [],
   "source": []
  },
  {
   "cell_type": "code",
   "execution_count": null,
   "metadata": {},
   "outputs": [],
   "source": []
  }
 ],
 "metadata": {
  "kernelspec": {
   "display_name": "Python 3",
   "language": "python",
   "name": "python3"
  },
  "language_info": {
   "codemirror_mode": {
    "name": "ipython",
    "version": 3
   },
   "file_extension": ".py",
   "mimetype": "text/x-python",
   "name": "python",
   "nbconvert_exporter": "python",
   "pygments_lexer": "ipython3",
   "version": "3.8.5"
  }
 },
 "nbformat": 4,
 "nbformat_minor": 5
}
